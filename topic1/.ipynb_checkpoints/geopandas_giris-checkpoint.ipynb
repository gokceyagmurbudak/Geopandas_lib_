{
 "cells": [
  {
   "cell_type": "code",
   "execution_count": 6,
   "metadata": {},
   "outputs": [],
   "source": [
    "import geopandas as gpd"
   ]
  },
  {
   "cell_type": "code",
   "execution_count": 7,
   "metadata": {},
   "outputs": [],
   "source": [
    "shp = 'countries.shp'\n",
    "\n",
    "ulkeler = gpd.read_file(shp)"
   ]
  },
  {
   "cell_type": "code",
   "execution_count": 54,
   "metadata": {},
   "outputs": [
    {
     "data": {
      "text/html": [
       "<div>\n",
       "<style scoped>\n",
       "    .dataframe tbody tr th:only-of-type {\n",
       "        vertical-align: middle;\n",
       "    }\n",
       "\n",
       "    .dataframe tbody tr th {\n",
       "        vertical-align: top;\n",
       "    }\n",
       "\n",
       "    .dataframe thead th {\n",
       "        text-align: right;\n",
       "    }\n",
       "</style>\n",
       "<table border=\"1\" class=\"dataframe\">\n",
       "  <thead>\n",
       "    <tr style=\"text-align: right;\">\n",
       "      <th></th>\n",
       "      <th>NAME</th>\n",
       "      <th>POP_EST</th>\n",
       "      <th>GDP_MD_EST</th>\n",
       "      <th>POP_YEAR</th>\n",
       "      <th>LASTCENSUS</th>\n",
       "      <th>GDP_YEAR</th>\n",
       "      <th>ECONOMY</th>\n",
       "      <th>INCOME_GRP</th>\n",
       "      <th>CONTINENT</th>\n",
       "      <th>REGION_UN</th>\n",
       "      <th>SUBREGION</th>\n",
       "      <th>geometry</th>\n",
       "    </tr>\n",
       "  </thead>\n",
       "  <tbody>\n",
       "    <tr>\n",
       "      <th>0</th>\n",
       "      <td>Indonesia</td>\n",
       "      <td>260580739</td>\n",
       "      <td>3028000.0</td>\n",
       "      <td>2017</td>\n",
       "      <td>2010</td>\n",
       "      <td>2016</td>\n",
       "      <td>4. Emerging region: MIKT</td>\n",
       "      <td>4. Lower middle income</td>\n",
       "      <td>Asia</td>\n",
       "      <td>Asia</td>\n",
       "      <td>South-Eastern Asia</td>\n",
       "      <td>MULTIPOLYGON (((117.70361 4.16341, 117.70361 4...</td>\n",
       "    </tr>\n",
       "    <tr>\n",
       "      <th>1</th>\n",
       "      <td>Malaysia</td>\n",
       "      <td>31381992</td>\n",
       "      <td>863000.0</td>\n",
       "      <td>2017</td>\n",
       "      <td>2010</td>\n",
       "      <td>2016</td>\n",
       "      <td>6. Developing region</td>\n",
       "      <td>3. Upper middle income</td>\n",
       "      <td>Asia</td>\n",
       "      <td>Asia</td>\n",
       "      <td>South-Eastern Asia</td>\n",
       "      <td>MULTIPOLYGON (((117.70361 4.16341, 117.69711 4...</td>\n",
       "    </tr>\n",
       "    <tr>\n",
       "      <th>2</th>\n",
       "      <td>Chile</td>\n",
       "      <td>17789267</td>\n",
       "      <td>436100.0</td>\n",
       "      <td>2017</td>\n",
       "      <td>2002</td>\n",
       "      <td>2016</td>\n",
       "      <td>5. Emerging region: G20</td>\n",
       "      <td>3. Upper middle income</td>\n",
       "      <td>South America</td>\n",
       "      <td>Americas</td>\n",
       "      <td>South America</td>\n",
       "      <td>MULTIPOLYGON (((-69.51009 -17.50659, -69.50611...</td>\n",
       "    </tr>\n",
       "    <tr>\n",
       "      <th>3</th>\n",
       "      <td>Bolivia</td>\n",
       "      <td>11138234</td>\n",
       "      <td>78350.0</td>\n",
       "      <td>2017</td>\n",
       "      <td>2001</td>\n",
       "      <td>2016</td>\n",
       "      <td>5. Emerging region: G20</td>\n",
       "      <td>4. Lower middle income</td>\n",
       "      <td>South America</td>\n",
       "      <td>Americas</td>\n",
       "      <td>South America</td>\n",
       "      <td>POLYGON ((-69.51009 -17.50659, -69.51009 -17.5...</td>\n",
       "    </tr>\n",
       "    <tr>\n",
       "      <th>4</th>\n",
       "      <td>Peru</td>\n",
       "      <td>31036656</td>\n",
       "      <td>410400.0</td>\n",
       "      <td>2017</td>\n",
       "      <td>2007</td>\n",
       "      <td>2016</td>\n",
       "      <td>5. Emerging region: G20</td>\n",
       "      <td>3. Upper middle income</td>\n",
       "      <td>South America</td>\n",
       "      <td>Americas</td>\n",
       "      <td>South America</td>\n",
       "      <td>MULTIPOLYGON (((-69.51009 -17.50659, -69.63832...</td>\n",
       "    </tr>\n",
       "  </tbody>\n",
       "</table>\n",
       "</div>"
      ],
      "text/plain": [
       "        NAME    POP_EST  GDP_MD_EST  POP_YEAR  LASTCENSUS  GDP_YEAR  \\\n",
       "0  Indonesia  260580739   3028000.0      2017        2010      2016   \n",
       "1   Malaysia   31381992    863000.0      2017        2010      2016   \n",
       "2      Chile   17789267    436100.0      2017        2002      2016   \n",
       "3    Bolivia   11138234     78350.0      2017        2001      2016   \n",
       "4       Peru   31036656    410400.0      2017        2007      2016   \n",
       "\n",
       "                    ECONOMY              INCOME_GRP      CONTINENT REGION_UN  \\\n",
       "0  4. Emerging region: MIKT  4. Lower middle income           Asia      Asia   \n",
       "1      6. Developing region  3. Upper middle income           Asia      Asia   \n",
       "2   5. Emerging region: G20  3. Upper middle income  South America  Americas   \n",
       "3   5. Emerging region: G20  4. Lower middle income  South America  Americas   \n",
       "4   5. Emerging region: G20  3. Upper middle income  South America  Americas   \n",
       "\n",
       "            SUBREGION                                           geometry  \n",
       "0  South-Eastern Asia  MULTIPOLYGON (((117.70361 4.16341, 117.70361 4...  \n",
       "1  South-Eastern Asia  MULTIPOLYGON (((117.70361 4.16341, 117.69711 4...  \n",
       "2       South America  MULTIPOLYGON (((-69.51009 -17.50659, -69.50611...  \n",
       "3       South America  POLYGON ((-69.51009 -17.50659, -69.51009 -17.5...  \n",
       "4       South America  MULTIPOLYGON (((-69.51009 -17.50659, -69.63832...  "
      ]
     },
     "execution_count": 54,
     "metadata": {},
     "output_type": "execute_result"
    }
   ],
   "source": [
    "ulkeler.head()\n"
   ]
  },
  {
   "cell_type": "code",
   "execution_count": 9,
   "metadata": {},
   "outputs": [
    {
     "data": {
      "text/plain": [
       "(255, 12)"
      ]
     },
     "execution_count": 9,
     "metadata": {},
     "output_type": "execute_result"
    }
   ],
   "source": [
    "ulkeler.shape"
   ]
  },
  {
   "cell_type": "code",
   "execution_count": 10,
   "metadata": {},
   "outputs": [
    {
     "data": {
      "image/png": "[encoded data removed]",
      "text/plain": [
       "<Figure size 432x288 with 1 Axes>"
      ]
     },
     "metadata": {
      "needs_background": "light"
     },
     "output_type": "display_data"
    }
   ],
   "source": [
    "ulkeler.plot();"
   ]
  },
  {
   "cell_type": "markdown",
   "metadata": {},
   "source": [
    "## 2. kısım: pandas ile csv dosyaöarının okunması ve Geodataframe'e dönüştürülmesi"
   ]
  },
  {
   "cell_type": "code",
   "execution_count": 1,
   "metadata": {},
   "outputs": [],
   "source": [
    "import geopandas as gpd\n",
    "import pandas as pd"
   ]
  },
  {
   "cell_type": "code",
   "execution_count": 4,
   "metadata": {
    "scrolled": false
   },
   "outputs": [
    {
     "data": {
      "text/html": [
       "<div>\n",
       "<style scoped>\n",
       "    .dataframe tbody tr th:only-of-type {\n",
       "        vertical-align: middle;\n",
       "    }\n",
       "\n",
       "    .dataframe tbody tr th {\n",
       "        vertical-align: top;\n",
       "    }\n",
       "\n",
       "    .dataframe thead th {\n",
       "        text-align: right;\n",
       "    }\n",
       "</style>\n",
       "<table border=\"1\" class=\"dataframe\">\n",
       "  <thead>\n",
       "    <tr style=\"text-align: right;\">\n",
       "      <th></th>\n",
       "      <th>data_id</th>\n",
       "      <th>iso</th>\n",
       "      <th>event_id_cnty</th>\n",
       "      <th>event_id_no_cnty</th>\n",
       "      <th>event_date</th>\n",
       "      <th>year</th>\n",
       "      <th>time_precision</th>\n",
       "      <th>event_type</th>\n",
       "      <th>sub_event_type</th>\n",
       "      <th>actor1</th>\n",
       "      <th>...</th>\n",
       "      <th>location</th>\n",
       "      <th>latitude</th>\n",
       "      <th>longitude</th>\n",
       "      <th>geo_precision</th>\n",
       "      <th>source</th>\n",
       "      <th>source_scale</th>\n",
       "      <th>notes</th>\n",
       "      <th>fatalities</th>\n",
       "      <th>timestamp</th>\n",
       "      <th>iso3</th>\n",
       "    </tr>\n",
       "  </thead>\n",
       "  <tbody>\n",
       "    <tr>\n",
       "      <th>0</th>\n",
       "      <td>7002829</td>\n",
       "      <td>682</td>\n",
       "      <td>SAU22794</td>\n",
       "      <td>22794</td>\n",
       "      <td>28 March 2020</td>\n",
       "      <td>2020</td>\n",
       "      <td>1</td>\n",
       "      <td>Strategic developments</td>\n",
       "      <td>Disrupted weapons use</td>\n",
       "      <td>Military Forces of Saudi Arabia (2015-)</td>\n",
       "      <td>...</td>\n",
       "      <td>Riyadh</td>\n",
       "      <td>24.6877</td>\n",
       "      <td>46.7219</td>\n",
       "      <td>2</td>\n",
       "      <td>26 September News Pro-Hadi</td>\n",
       "      <td>Regional</td>\n",
       "      <td>On 28 March 2020, two pro-Houthi ballistic mis...</td>\n",
       "      <td>0</td>\n",
       "      <td>1585593786</td>\n",
       "      <td>SAU</td>\n",
       "    </tr>\n",
       "    <tr>\n",
       "      <th>1</th>\n",
       "      <td>7002830</td>\n",
       "      <td>682</td>\n",
       "      <td>SAU22796</td>\n",
       "      <td>22796</td>\n",
       "      <td>28 March 2020</td>\n",
       "      <td>2020</td>\n",
       "      <td>1</td>\n",
       "      <td>Strategic developments</td>\n",
       "      <td>Disrupted weapons use</td>\n",
       "      <td>Military Forces of Saudi Arabia (2015-)</td>\n",
       "      <td>...</td>\n",
       "      <td>Jizan</td>\n",
       "      <td>16.8892</td>\n",
       "      <td>42.5511</td>\n",
       "      <td>2</td>\n",
       "      <td>26 September News Pro-Hadi</td>\n",
       "      <td>Regional</td>\n",
       "      <td>On 28 March 2020, two pro-Houthi ballistic mis...</td>\n",
       "      <td>0</td>\n",
       "      <td>1585593786</td>\n",
       "      <td>SAU</td>\n",
       "    </tr>\n",
       "    <tr>\n",
       "      <th>2</th>\n",
       "      <td>7002584</td>\n",
       "      <td>682</td>\n",
       "      <td>SAU22795</td>\n",
       "      <td>22795</td>\n",
       "      <td>28 March 2020</td>\n",
       "      <td>2020</td>\n",
       "      <td>1</td>\n",
       "      <td>Explosions/Remote violence</td>\n",
       "      <td>Air/drone strike</td>\n",
       "      <td>Military Forces of Saudi Arabia (2015-)</td>\n",
       "      <td>...</td>\n",
       "      <td>Wadi al Jarah</td>\n",
       "      <td>16.8165</td>\n",
       "      <td>43.2147</td>\n",
       "      <td>1</td>\n",
       "      <td>Al Motamar; Yemen Data Project</td>\n",
       "      <td>Local partner-Regional</td>\n",
       "      <td>On 28 March 2020, 1 Saudi-led coalition airstr...</td>\n",
       "      <td>0</td>\n",
       "      <td>1585593785</td>\n",
       "      <td>SAU</td>\n",
       "    </tr>\n",
       "    <tr>\n",
       "      <th>3</th>\n",
       "      <td>7002582</td>\n",
       "      <td>682</td>\n",
       "      <td>SAU22792</td>\n",
       "      <td>22792</td>\n",
       "      <td>27 March 2020</td>\n",
       "      <td>2020</td>\n",
       "      <td>1</td>\n",
       "      <td>Strategic developments</td>\n",
       "      <td>Disrupted weapons use</td>\n",
       "      <td>Military Forces of Saudi Arabia (2015-)</td>\n",
       "      <td>...</td>\n",
       "      <td>Abha</td>\n",
       "      <td>18.2164</td>\n",
       "      <td>42.5053</td>\n",
       "      <td>1</td>\n",
       "      <td>Al Arabiya; Yemen Data Project</td>\n",
       "      <td>Local partner-Regional</td>\n",
       "      <td>On 27 March 2020, Saudi-led coalition forces r...</td>\n",
       "      <td>0</td>\n",
       "      <td>1585593785</td>\n",
       "      <td>SAU</td>\n",
       "    </tr>\n",
       "    <tr>\n",
       "      <th>4</th>\n",
       "      <td>7002583</td>\n",
       "      <td>682</td>\n",
       "      <td>SAU22793</td>\n",
       "      <td>22793</td>\n",
       "      <td>27 March 2020</td>\n",
       "      <td>2020</td>\n",
       "      <td>1</td>\n",
       "      <td>Strategic developments</td>\n",
       "      <td>Disrupted weapons use</td>\n",
       "      <td>Military Forces of Saudi Arabia (2015-)</td>\n",
       "      <td>...</td>\n",
       "      <td>Khamis Mushait</td>\n",
       "      <td>18.3000</td>\n",
       "      <td>42.7333</td>\n",
       "      <td>1</td>\n",
       "      <td>Yemen Data Project; Al Arabiya</td>\n",
       "      <td>Local partner-Regional</td>\n",
       "      <td>On 27 March 2020, Saudi-led coalition forces r...</td>\n",
       "      <td>0</td>\n",
       "      <td>1585593785</td>\n",
       "      <td>SAU</td>\n",
       "    </tr>\n",
       "  </tbody>\n",
       "</table>\n",
       "<p>5 rows × 31 columns</p>\n",
       "</div>"
      ],
      "text/plain": [
       "   data_id  iso event_id_cnty  event_id_no_cnty     event_date  year  \\\n",
       "0  7002829  682      SAU22794             22794  28 March 2020  2020   \n",
       "1  7002830  682      SAU22796             22796  28 March 2020  2020   \n",
       "2  7002584  682      SAU22795             22795  28 March 2020  2020   \n",
       "3  7002582  682      SAU22792             22792  27 March 2020  2020   \n",
       "4  7002583  682      SAU22793             22793  27 March 2020  2020   \n",
       "\n",
       "   time_precision                  event_type         sub_event_type  \\\n",
       "0               1      Strategic developments  Disrupted weapons use   \n",
       "1               1      Strategic developments  Disrupted weapons use   \n",
       "2               1  Explosions/Remote violence       Air/drone strike   \n",
       "3               1      Strategic developments  Disrupted weapons use   \n",
       "4               1      Strategic developments  Disrupted weapons use   \n",
       "\n",
       "                                    actor1  ...        location  latitude  \\\n",
       "0  Military Forces of Saudi Arabia (2015-)  ...          Riyadh   24.6877   \n",
       "1  Military Forces of Saudi Arabia (2015-)  ...           Jizan   16.8892   \n",
       "2  Military Forces of Saudi Arabia (2015-)  ...   Wadi al Jarah   16.8165   \n",
       "3  Military Forces of Saudi Arabia (2015-)  ...            Abha   18.2164   \n",
       "4  Military Forces of Saudi Arabia (2015-)  ...  Khamis Mushait   18.3000   \n",
       "\n",
       "  longitude geo_precision                          source  \\\n",
       "0   46.7219             2      26 September News Pro-Hadi   \n",
       "1   42.5511             2      26 September News Pro-Hadi   \n",
       "2   43.2147             1  Al Motamar; Yemen Data Project   \n",
       "3   42.5053             1  Al Arabiya; Yemen Data Project   \n",
       "4   42.7333             1  Yemen Data Project; Al Arabiya   \n",
       "\n",
       "             source_scale                                              notes  \\\n",
       "0                Regional  On 28 March 2020, two pro-Houthi ballistic mis...   \n",
       "1                Regional  On 28 March 2020, two pro-Houthi ballistic mis...   \n",
       "2  Local partner-Regional  On 28 March 2020, 1 Saudi-led coalition airstr...   \n",
       "3  Local partner-Regional  On 27 March 2020, Saudi-led coalition forces r...   \n",
       "4  Local partner-Regional  On 27 March 2020, Saudi-led coalition forces r...   \n",
       "\n",
       "  fatalities   timestamp iso3  \n",
       "0          0  1585593786  SAU  \n",
       "1          0  1585593786  SAU  \n",
       "2          0  1585593785  SAU  \n",
       "3          0  1585593785  SAU  \n",
       "4          0  1585593785  SAU  \n",
       "\n",
       "[5 rows x 31 columns]"
      ]
     },
     "execution_count": 4,
     "metadata": {},
     "output_type": "execute_result"
    }
   ],
   "source": [
    "\n",
    "df = pd.read_csv('acled2019.csv')\n",
    "df.head()\n"
   ]
  },
  {
   "cell_type": "code",
   "execution_count": 7,
   "metadata": {},
   "outputs": [
    {
     "data": {
      "text/html": [
       "<div>\n",
       "<style scoped>\n",
       "    .dataframe tbody tr th:only-of-type {\n",
       "        vertical-align: middle;\n",
       "    }\n",
       "\n",
       "    .dataframe tbody tr th {\n",
       "        vertical-align: top;\n",
       "    }\n",
       "\n",
       "    .dataframe thead th {\n",
       "        text-align: right;\n",
       "    }\n",
       "</style>\n",
       "<table border=\"1\" class=\"dataframe\">\n",
       "  <thead>\n",
       "    <tr style=\"text-align: right;\">\n",
       "      <th></th>\n",
       "      <th>data_id</th>\n",
       "      <th>iso</th>\n",
       "      <th>event_id_cnty</th>\n",
       "      <th>event_id_no_cnty</th>\n",
       "      <th>event_date</th>\n",
       "      <th>year</th>\n",
       "      <th>time_precision</th>\n",
       "      <th>event_type</th>\n",
       "      <th>sub_event_type</th>\n",
       "      <th>actor1</th>\n",
       "      <th>...</th>\n",
       "      <th>latitude</th>\n",
       "      <th>longitude</th>\n",
       "      <th>geo_precision</th>\n",
       "      <th>source</th>\n",
       "      <th>source_scale</th>\n",
       "      <th>notes</th>\n",
       "      <th>fatalities</th>\n",
       "      <th>timestamp</th>\n",
       "      <th>iso3</th>\n",
       "      <th>geometry</th>\n",
       "    </tr>\n",
       "  </thead>\n",
       "  <tbody>\n",
       "    <tr>\n",
       "      <th>0</th>\n",
       "      <td>7002829</td>\n",
       "      <td>682</td>\n",
       "      <td>SAU22794</td>\n",
       "      <td>22794</td>\n",
       "      <td>28 March 2020</td>\n",
       "      <td>2020</td>\n",
       "      <td>1</td>\n",
       "      <td>Strategic developments</td>\n",
       "      <td>Disrupted weapons use</td>\n",
       "      <td>Military Forces of Saudi Arabia (2015-)</td>\n",
       "      <td>...</td>\n",
       "      <td>24.6877</td>\n",
       "      <td>46.7219</td>\n",
       "      <td>2</td>\n",
       "      <td>26 September News Pro-Hadi</td>\n",
       "      <td>Regional</td>\n",
       "      <td>On 28 March 2020, two pro-Houthi ballistic mis...</td>\n",
       "      <td>0</td>\n",
       "      <td>1585593786</td>\n",
       "      <td>SAU</td>\n",
       "      <td>POINT (46.72190 24.68770)</td>\n",
       "    </tr>\n",
       "    <tr>\n",
       "      <th>1</th>\n",
       "      <td>7002830</td>\n",
       "      <td>682</td>\n",
       "      <td>SAU22796</td>\n",
       "      <td>22796</td>\n",
       "      <td>28 March 2020</td>\n",
       "      <td>2020</td>\n",
       "      <td>1</td>\n",
       "      <td>Strategic developments</td>\n",
       "      <td>Disrupted weapons use</td>\n",
       "      <td>Military Forces of Saudi Arabia (2015-)</td>\n",
       "      <td>...</td>\n",
       "      <td>16.8892</td>\n",
       "      <td>42.5511</td>\n",
       "      <td>2</td>\n",
       "      <td>26 September News Pro-Hadi</td>\n",
       "      <td>Regional</td>\n",
       "      <td>On 28 March 2020, two pro-Houthi ballistic mis...</td>\n",
       "      <td>0</td>\n",
       "      <td>1585593786</td>\n",
       "      <td>SAU</td>\n",
       "      <td>POINT (42.55110 16.88920)</td>\n",
       "    </tr>\n",
       "    <tr>\n",
       "      <th>2</th>\n",
       "      <td>7002584</td>\n",
       "      <td>682</td>\n",
       "      <td>SAU22795</td>\n",
       "      <td>22795</td>\n",
       "      <td>28 March 2020</td>\n",
       "      <td>2020</td>\n",
       "      <td>1</td>\n",
       "      <td>Explosions/Remote violence</td>\n",
       "      <td>Air/drone strike</td>\n",
       "      <td>Military Forces of Saudi Arabia (2015-)</td>\n",
       "      <td>...</td>\n",
       "      <td>16.8165</td>\n",
       "      <td>43.2147</td>\n",
       "      <td>1</td>\n",
       "      <td>Al Motamar; Yemen Data Project</td>\n",
       "      <td>Local partner-Regional</td>\n",
       "      <td>On 28 March 2020, 1 Saudi-led coalition airstr...</td>\n",
       "      <td>0</td>\n",
       "      <td>1585593785</td>\n",
       "      <td>SAU</td>\n",
       "      <td>POINT (43.21470 16.81650)</td>\n",
       "    </tr>\n",
       "    <tr>\n",
       "      <th>3</th>\n",
       "      <td>7002582</td>\n",
       "      <td>682</td>\n",
       "      <td>SAU22792</td>\n",
       "      <td>22792</td>\n",
       "      <td>27 March 2020</td>\n",
       "      <td>2020</td>\n",
       "      <td>1</td>\n",
       "      <td>Strategic developments</td>\n",
       "      <td>Disrupted weapons use</td>\n",
       "      <td>Military Forces of Saudi Arabia (2015-)</td>\n",
       "      <td>...</td>\n",
       "      <td>18.2164</td>\n",
       "      <td>42.5053</td>\n",
       "      <td>1</td>\n",
       "      <td>Al Arabiya; Yemen Data Project</td>\n",
       "      <td>Local partner-Regional</td>\n",
       "      <td>On 27 March 2020, Saudi-led coalition forces r...</td>\n",
       "      <td>0</td>\n",
       "      <td>1585593785</td>\n",
       "      <td>SAU</td>\n",
       "      <td>POINT (42.50530 18.21640)</td>\n",
       "    </tr>\n",
       "    <tr>\n",
       "      <th>4</th>\n",
       "      <td>7002583</td>\n",
       "      <td>682</td>\n",
       "      <td>SAU22793</td>\n",
       "      <td>22793</td>\n",
       "      <td>27 March 2020</td>\n",
       "      <td>2020</td>\n",
       "      <td>1</td>\n",
       "      <td>Strategic developments</td>\n",
       "      <td>Disrupted weapons use</td>\n",
       "      <td>Military Forces of Saudi Arabia (2015-)</td>\n",
       "      <td>...</td>\n",
       "      <td>18.3000</td>\n",
       "      <td>42.7333</td>\n",
       "      <td>1</td>\n",
       "      <td>Yemen Data Project; Al Arabiya</td>\n",
       "      <td>Local partner-Regional</td>\n",
       "      <td>On 27 March 2020, Saudi-led coalition forces r...</td>\n",
       "      <td>0</td>\n",
       "      <td>1585593785</td>\n",
       "      <td>SAU</td>\n",
       "      <td>POINT (42.73330 18.30000)</td>\n",
       "    </tr>\n",
       "  </tbody>\n",
       "</table>\n",
       "<p>5 rows × 32 columns</p>\n",
       "</div>"
      ],
      "text/plain": [
       "   data_id  iso event_id_cnty  event_id_no_cnty     event_date  year  \\\n",
       "0  7002829  682      SAU22794             22794  28 March 2020  2020   \n",
       "1  7002830  682      SAU22796             22796  28 March 2020  2020   \n",
       "2  7002584  682      SAU22795             22795  28 March 2020  2020   \n",
       "3  7002582  682      SAU22792             22792  27 March 2020  2020   \n",
       "4  7002583  682      SAU22793             22793  27 March 2020  2020   \n",
       "\n",
       "   time_precision                  event_type         sub_event_type  \\\n",
       "0               1      Strategic developments  Disrupted weapons use   \n",
       "1               1      Strategic developments  Disrupted weapons use   \n",
       "2               1  Explosions/Remote violence       Air/drone strike   \n",
       "3               1      Strategic developments  Disrupted weapons use   \n",
       "4               1      Strategic developments  Disrupted weapons use   \n",
       "\n",
       "                                    actor1  ... latitude  longitude  \\\n",
       "0  Military Forces of Saudi Arabia (2015-)  ...  24.6877    46.7219   \n",
       "1  Military Forces of Saudi Arabia (2015-)  ...  16.8892    42.5511   \n",
       "2  Military Forces of Saudi Arabia (2015-)  ...  16.8165    43.2147   \n",
       "3  Military Forces of Saudi Arabia (2015-)  ...  18.2164    42.5053   \n",
       "4  Military Forces of Saudi Arabia (2015-)  ...  18.3000    42.7333   \n",
       "\n",
       "  geo_precision                          source            source_scale  \\\n",
       "0             2      26 September News Pro-Hadi                Regional   \n",
       "1             2      26 September News Pro-Hadi                Regional   \n",
       "2             1  Al Motamar; Yemen Data Project  Local partner-Regional   \n",
       "3             1  Al Arabiya; Yemen Data Project  Local partner-Regional   \n",
       "4             1  Yemen Data Project; Al Arabiya  Local partner-Regional   \n",
       "\n",
       "                                               notes fatalities   timestamp  \\\n",
       "0  On 28 March 2020, two pro-Houthi ballistic mis...          0  1585593786   \n",
       "1  On 28 March 2020, two pro-Houthi ballistic mis...          0  1585593786   \n",
       "2  On 28 March 2020, 1 Saudi-led coalition airstr...          0  1585593785   \n",
       "3  On 27 March 2020, Saudi-led coalition forces r...          0  1585593785   \n",
       "4  On 27 March 2020, Saudi-led coalition forces r...          0  1585593785   \n",
       "\n",
       "  iso3                   geometry  \n",
       "0  SAU  POINT (46.72190 24.68770)  \n",
       "1  SAU  POINT (42.55110 16.88920)  \n",
       "2  SAU  POINT (43.21470 16.81650)  \n",
       "3  SAU  POINT (42.50530 18.21640)  \n",
       "4  SAU  POINT (42.73330 18.30000)  \n",
       "\n",
       "[5 rows x 32 columns]"
      ]
     },
     "execution_count": 7,
     "metadata": {},
     "output_type": "execute_result"
    }
   ],
   "source": [
    "gdf=gpd.GeoDataFrame(df, geometry= gpd.points_from_xy(df.longitude,df.latitude))\n",
    "gdf.head()"
   ]
  },
  {
   "cell_type": "code",
   "execution_count": 46,
   "metadata": {},
   "outputs": [
    {
     "data": {
      "image/png": "[encoded data removed]",
      "text/plain": [
       "<Figure size 432x288 with 1 Axes>"
      ]
     },
     "metadata": {
      "needs_background": "light"
     },
     "output_type": "display_data"
    }
   ],
   "source": [
    "gdf.plot(markersize=100);"
   ]
  },
  {
   "cell_type": "code",
   "execution_count": 55,
   "metadata": {},
   "outputs": [
    {
     "name": "stderr",
     "output_type": "stream",
     "text": [
      "C:\\Users\\HP\\anaconda3\\lib\\site-packages\\pyproj\\crs\\crs.py:53: FutureWarning: '+init=<authority>:<code>' syntax is deprecated. '<authority>:<code>' is the preferred initialization method. When making the change, be mindful of axis order changes: https://pyproj4.github.io/pyproj/stable/gotchas.html#axis-order-changes-in-proj-6\n",
      "  return _prepare_from_string(\" \".join(pjargs))\n"
     ]
    }
   ],
   "source": [
    "gdf.to_file(\"acled2019.shp\", crs={'init' :'epsg:4326'})"
   ]
  },
  {
   "cell_type": "code",
   "execution_count": 14,
   "metadata": {},
   "outputs": [],
   "source": [
    "gdf.sample(1000).to_file(\"acled2019-geojson\",driver=\"GeoJSON\")"
   ]
  },
  {
   "cell_type": "markdown",
   "metadata": {},
   "source": [
    "## 3. kısım: Coğrafi verilerin alt kümelerine ayrılması:"
   ]
  },
  {
   "cell_type": "code",
   "execution_count": 15,
   "metadata": {},
   "outputs": [],
   "source": [
    "import geopandas as gpd\n",
    "import pandas as pd"
   ]
  },
  {
   "cell_type": "code",
   "execution_count": 16,
   "metadata": {},
   "outputs": [
    {
     "data": {
      "text/html": [
       "<div>\n",
       "<style scoped>\n",
       "    .dataframe tbody tr th:only-of-type {\n",
       "        vertical-align: middle;\n",
       "    }\n",
       "\n",
       "    .dataframe tbody tr th {\n",
       "        vertical-align: top;\n",
       "    }\n",
       "\n",
       "    .dataframe thead th {\n",
       "        text-align: right;\n",
       "    }\n",
       "</style>\n",
       "<table border=\"1\" class=\"dataframe\">\n",
       "  <thead>\n",
       "    <tr style=\"text-align: right;\">\n",
       "      <th></th>\n",
       "      <th>NAME</th>\n",
       "      <th>POP_EST</th>\n",
       "      <th>GDP_MD_EST</th>\n",
       "      <th>POP_YEAR</th>\n",
       "      <th>LASTCENSUS</th>\n",
       "      <th>GDP_YEAR</th>\n",
       "      <th>ECONOMY</th>\n",
       "      <th>INCOME_GRP</th>\n",
       "      <th>CONTINENT</th>\n",
       "      <th>REGION_UN</th>\n",
       "      <th>SUBREGION</th>\n",
       "      <th>geometry</th>\n",
       "    </tr>\n",
       "  </thead>\n",
       "  <tbody>\n",
       "    <tr>\n",
       "      <th>0</th>\n",
       "      <td>Indonesia</td>\n",
       "      <td>260580739</td>\n",
       "      <td>3028000.0</td>\n",
       "      <td>2017</td>\n",
       "      <td>2010</td>\n",
       "      <td>2016</td>\n",
       "      <td>4. Emerging region: MIKT</td>\n",
       "      <td>4. Lower middle income</td>\n",
       "      <td>Asia</td>\n",
       "      <td>Asia</td>\n",
       "      <td>South-Eastern Asia</td>\n",
       "      <td>MULTIPOLYGON (((117.70361 4.16341, 117.70361 4...</td>\n",
       "    </tr>\n",
       "    <tr>\n",
       "      <th>1</th>\n",
       "      <td>Malaysia</td>\n",
       "      <td>31381992</td>\n",
       "      <td>863000.0</td>\n",
       "      <td>2017</td>\n",
       "      <td>2010</td>\n",
       "      <td>2016</td>\n",
       "      <td>6. Developing region</td>\n",
       "      <td>3. Upper middle income</td>\n",
       "      <td>Asia</td>\n",
       "      <td>Asia</td>\n",
       "      <td>South-Eastern Asia</td>\n",
       "      <td>MULTIPOLYGON (((117.70361 4.16341, 117.69711 4...</td>\n",
       "    </tr>\n",
       "    <tr>\n",
       "      <th>2</th>\n",
       "      <td>Chile</td>\n",
       "      <td>17789267</td>\n",
       "      <td>436100.0</td>\n",
       "      <td>2017</td>\n",
       "      <td>2002</td>\n",
       "      <td>2016</td>\n",
       "      <td>5. Emerging region: G20</td>\n",
       "      <td>3. Upper middle income</td>\n",
       "      <td>South America</td>\n",
       "      <td>Americas</td>\n",
       "      <td>South America</td>\n",
       "      <td>MULTIPOLYGON (((-69.51009 -17.50659, -69.50611...</td>\n",
       "    </tr>\n",
       "    <tr>\n",
       "      <th>3</th>\n",
       "      <td>Bolivia</td>\n",
       "      <td>11138234</td>\n",
       "      <td>78350.0</td>\n",
       "      <td>2017</td>\n",
       "      <td>2001</td>\n",
       "      <td>2016</td>\n",
       "      <td>5. Emerging region: G20</td>\n",
       "      <td>4. Lower middle income</td>\n",
       "      <td>South America</td>\n",
       "      <td>Americas</td>\n",
       "      <td>South America</td>\n",
       "      <td>POLYGON ((-69.51009 -17.50659, -69.51009 -17.5...</td>\n",
       "    </tr>\n",
       "    <tr>\n",
       "      <th>4</th>\n",
       "      <td>Peru</td>\n",
       "      <td>31036656</td>\n",
       "      <td>410400.0</td>\n",
       "      <td>2017</td>\n",
       "      <td>2007</td>\n",
       "      <td>2016</td>\n",
       "      <td>5. Emerging region: G20</td>\n",
       "      <td>3. Upper middle income</td>\n",
       "      <td>South America</td>\n",
       "      <td>Americas</td>\n",
       "      <td>South America</td>\n",
       "      <td>MULTIPOLYGON (((-69.51009 -17.50659, -69.63832...</td>\n",
       "    </tr>\n",
       "  </tbody>\n",
       "</table>\n",
       "</div>"
      ],
      "text/plain": [
       "        NAME    POP_EST  GDP_MD_EST  POP_YEAR  LASTCENSUS  GDP_YEAR  \\\n",
       "0  Indonesia  260580739   3028000.0      2017        2010      2016   \n",
       "1   Malaysia   31381992    863000.0      2017        2010      2016   \n",
       "2      Chile   17789267    436100.0      2017        2002      2016   \n",
       "3    Bolivia   11138234     78350.0      2017        2001      2016   \n",
       "4       Peru   31036656    410400.0      2017        2007      2016   \n",
       "\n",
       "                    ECONOMY              INCOME_GRP      CONTINENT REGION_UN  \\\n",
       "0  4. Emerging region: MIKT  4. Lower middle income           Asia      Asia   \n",
       "1      6. Developing region  3. Upper middle income           Asia      Asia   \n",
       "2   5. Emerging region: G20  3. Upper middle income  South America  Americas   \n",
       "3   5. Emerging region: G20  4. Lower middle income  South America  Americas   \n",
       "4   5. Emerging region: G20  3. Upper middle income  South America  Americas   \n",
       "\n",
       "            SUBREGION                                           geometry  \n",
       "0  South-Eastern Asia  MULTIPOLYGON (((117.70361 4.16341, 117.70361 4...  \n",
       "1  South-Eastern Asia  MULTIPOLYGON (((117.70361 4.16341, 117.69711 4...  \n",
       "2       South America  MULTIPOLYGON (((-69.51009 -17.50659, -69.50611...  \n",
       "3       South America  POLYGON ((-69.51009 -17.50659, -69.51009 -17.5...  \n",
       "4       South America  MULTIPOLYGON (((-69.51009 -17.50659, -69.63832...  "
      ]
     },
     "execution_count": 16,
     "metadata": {},
     "output_type": "execute_result"
    }
   ],
   "source": [
    "shp =\"countries.shp\"\n",
    "ulkeler=gpd.read_file(shp)\n",
    "ulkeler.head()"
   ]
  },
  {
   "cell_type": "code",
   "execution_count": 17,
   "metadata": {},
   "outputs": [
    {
     "data": {
      "text/plain": [
       "<Geographic 2D CRS: EPSG:4326>\n",
       "Name: WGS 84\n",
       "Axis Info [ellipsoidal]:\n",
       "- Lat[north]: Geodetic latitude (degree)\n",
       "- Lon[east]: Geodetic longitude (degree)\n",
       "Area of Use:\n",
       "- name: World\n",
       "- bounds: (-180.0, -90.0, 180.0, 90.0)\n",
       "Datum: World Geodetic System 1984\n",
       "- Ellipsoid: WGS 84\n",
       "- Prime Meridian: Greenwich"
      ]
     },
     "execution_count": 17,
     "metadata": {},
     "output_type": "execute_result"
    }
   ],
   "source": [
    "ulkeler.crs"
   ]
  },
  {
   "cell_type": "code",
   "execution_count": 18,
   "metadata": {},
   "outputs": [
    {
     "data": {
      "image/png": "[encoded data removed]",
      "text/plain": [
       "<Figure size 432x288 with 1 Axes>"
      ]
     },
     "metadata": {
      "needs_background": "light"
     },
     "output_type": "display_data"
    }
   ],
   "source": [
    "ulkeler.plot();"
   ]
  },
  {
   "cell_type": "code",
   "execution_count": 60,
   "metadata": {},
   "outputs": [
    {
     "data": {
      "text/html": [
       "<div>\n",
       "<style scoped>\n",
       "    .dataframe tbody tr th:only-of-type {\n",
       "        vertical-align: middle;\n",
       "    }\n",
       "\n",
       "    .dataframe tbody tr th {\n",
       "        vertical-align: top;\n",
       "    }\n",
       "\n",
       "    .dataframe thead th {\n",
       "        text-align: right;\n",
       "    }\n",
       "</style>\n",
       "<table border=\"1\" class=\"dataframe\">\n",
       "  <thead>\n",
       "    <tr style=\"text-align: right;\">\n",
       "      <th></th>\n",
       "      <th>NAME</th>\n",
       "      <th>POP_EST</th>\n",
       "      <th>GDP_MD_EST</th>\n",
       "      <th>POP_YEAR</th>\n",
       "      <th>LASTCENSUS</th>\n",
       "      <th>GDP_YEAR</th>\n",
       "      <th>ECONOMY</th>\n",
       "      <th>INCOME_GRP</th>\n",
       "      <th>CONTINENT</th>\n",
       "      <th>REGION_UN</th>\n",
       "      <th>SUBREGION</th>\n",
       "      <th>geometry</th>\n",
       "    </tr>\n",
       "  </thead>\n",
       "  <tbody>\n",
       "    <tr>\n",
       "      <th>0</th>\n",
       "      <td>Indonesia</td>\n",
       "      <td>260580739</td>\n",
       "      <td>3028000.0</td>\n",
       "      <td>2017</td>\n",
       "      <td>2010</td>\n",
       "      <td>2016</td>\n",
       "      <td>4. Emerging region: MIKT</td>\n",
       "      <td>4. Lower middle income</td>\n",
       "      <td>Asia</td>\n",
       "      <td>Asia</td>\n",
       "      <td>South-Eastern Asia</td>\n",
       "      <td>MULTIPOLYGON (((117.70361 4.16341, 117.70361 4...</td>\n",
       "    </tr>\n",
       "    <tr>\n",
       "      <th>1</th>\n",
       "      <td>Malaysia</td>\n",
       "      <td>31381992</td>\n",
       "      <td>863000.0</td>\n",
       "      <td>2017</td>\n",
       "      <td>2010</td>\n",
       "      <td>2016</td>\n",
       "      <td>6. Developing region</td>\n",
       "      <td>3. Upper middle income</td>\n",
       "      <td>Asia</td>\n",
       "      <td>Asia</td>\n",
       "      <td>South-Eastern Asia</td>\n",
       "      <td>MULTIPOLYGON (((117.70361 4.16341, 117.69711 4...</td>\n",
       "    </tr>\n",
       "    <tr>\n",
       "      <th>6</th>\n",
       "      <td>Dhekelia</td>\n",
       "      <td>7850</td>\n",
       "      <td>314.0</td>\n",
       "      <td>2013</td>\n",
       "      <td>-99</td>\n",
       "      <td>2013</td>\n",
       "      <td>2. Developed region: nonG7</td>\n",
       "      <td>2. High income: nonOECD</td>\n",
       "      <td>Asia</td>\n",
       "      <td>Asia</td>\n",
       "      <td>Western Asia</td>\n",
       "      <td>POLYGON ((33.78094 34.97635, 33.76043 34.97968...</td>\n",
       "    </tr>\n",
       "    <tr>\n",
       "      <th>7</th>\n",
       "      <td>Cyprus</td>\n",
       "      <td>1221549</td>\n",
       "      <td>29260.0</td>\n",
       "      <td>2017</td>\n",
       "      <td>2001</td>\n",
       "      <td>2016</td>\n",
       "      <td>6. Developing region</td>\n",
       "      <td>2. High income: nonOECD</td>\n",
       "      <td>Asia</td>\n",
       "      <td>Asia</td>\n",
       "      <td>Western Asia</td>\n",
       "      <td>MULTIPOLYGON (((33.78183 34.97622, 33.78094 34...</td>\n",
       "    </tr>\n",
       "    <tr>\n",
       "      <th>8</th>\n",
       "      <td>India</td>\n",
       "      <td>1281935911</td>\n",
       "      <td>8721000.0</td>\n",
       "      <td>2017</td>\n",
       "      <td>2011</td>\n",
       "      <td>2016</td>\n",
       "      <td>3. Emerging region: BRIC</td>\n",
       "      <td>4. Lower middle income</td>\n",
       "      <td>Asia</td>\n",
       "      <td>Asia</td>\n",
       "      <td>Southern Asia</td>\n",
       "      <td>MULTIPOLYGON (((77.80035 35.49541, 77.81533 35...</td>\n",
       "    </tr>\n",
       "  </tbody>\n",
       "</table>\n",
       "</div>"
      ],
      "text/plain": [
       "        NAME     POP_EST  GDP_MD_EST  POP_YEAR  LASTCENSUS  GDP_YEAR  \\\n",
       "0  Indonesia   260580739   3028000.0      2017        2010      2016   \n",
       "1   Malaysia    31381992    863000.0      2017        2010      2016   \n",
       "6   Dhekelia        7850       314.0      2013         -99      2013   \n",
       "7     Cyprus     1221549     29260.0      2017        2001      2016   \n",
       "8      India  1281935911   8721000.0      2017        2011      2016   \n",
       "\n",
       "                      ECONOMY               INCOME_GRP CONTINENT REGION_UN  \\\n",
       "0    4. Emerging region: MIKT   4. Lower middle income      Asia      Asia   \n",
       "1        6. Developing region   3. Upper middle income      Asia      Asia   \n",
       "6  2. Developed region: nonG7  2. High income: nonOECD      Asia      Asia   \n",
       "7        6. Developing region  2. High income: nonOECD      Asia      Asia   \n",
       "8    3. Emerging region: BRIC   4. Lower middle income      Asia      Asia   \n",
       "\n",
       "            SUBREGION                                           geometry  \n",
       "0  South-Eastern Asia  MULTIPOLYGON (((117.70361 4.16341, 117.70361 4...  \n",
       "1  South-Eastern Asia  MULTIPOLYGON (((117.70361 4.16341, 117.69711 4...  \n",
       "6        Western Asia  POLYGON ((33.78094 34.97635, 33.76043 34.97968...  \n",
       "7        Western Asia  MULTIPOLYGON (((33.78183 34.97622, 33.78094 34...  \n",
       "8       Southern Asia  MULTIPOLYGON (((77.80035 35.49541, 77.81533 35...  "
      ]
     },
     "execution_count": 60,
     "metadata": {},
     "output_type": "execute_result"
    }
   ],
   "source": [
    "ulkeler[ulkeler['CONTINENT']== \"Asia\"]\n",
    "asia= ulkeler[ulkeler['CONTINENT']== \"Asia\"]\n",
    "asia.head()"
   ]
  },
  {
   "cell_type": "code",
   "execution_count": 61,
   "metadata": {},
   "outputs": [
    {
     "data": {
      "image/png": "[encoded data removed]",
      "text/plain": [
       "<Figure size 432x288 with 1 Axes>"
      ]
     },
     "metadata": {
      "needs_background": "light"
     },
     "output_type": "display_data"
    }
   ],
   "source": [
    "asia.plot();"
   ]
  },
  {
   "cell_type": "code",
   "execution_count": 62,
   "metadata": {},
   "outputs": [],
   "source": [
    "asia_acled= gpd.read_file(\"acled2019.shp\", mask= asia)\n"
   ]
  },
  {
   "cell_type": "code",
   "execution_count": 63,
   "metadata": {},
   "outputs": [
    {
     "data": {
      "image/png": "[encoded data removed]",
      "text/plain": [
       "<Figure size 432x288 with 1 Axes>"
      ]
     },
     "metadata": {
      "needs_background": "light"
     },
     "output_type": "display_data"
    }
   ],
   "source": [
    "asia_acled.plot();"
   ]
  },
  {
   "cell_type": "code",
   "execution_count": 73,
   "metadata": {},
   "outputs": [
    {
     "data": {
      "image/png": "[encoded data removed]",
      "text/plain": [
       "<Figure size 432x288 with 1 Axes>"
      ]
     },
     "metadata": {
      "needs_background": "light"
     },
     "output_type": "display_data"
    }
   ],
   "source": [
    "# ilk 500 olayı alıyor.\n",
    "acled_subset= gpd.read_file(\"acled2019.shp\", rows=500)\n",
    "acled_subset.plot();"
   ]
  },
  {
   "cell_type": "code",
   "execution_count": 75,
   "metadata": {},
   "outputs": [
    {
     "data": {
      "image/png": "[encoded data removed]",
      "text/plain": [
       "<Figure size 432x288 with 1 Axes>"
      ]
     },
     "metadata": {
      "needs_background": "light"
     },
     "output_type": "display_data"
    }
   ],
   "source": [
    "# 2 ila 5 (dahil değil) arası(rows) olay alımı \n",
    "acled_subset= gpd.read_file(\"acled2019.shp\", rows = slice(2,5))\n",
    "acled_subset.plot();"
   ]
  },
  {
   "cell_type": "code",
   "execution_count": null,
   "metadata": {},
   "outputs": [],
   "source": []
  }
 ],
 "metadata": {
  "kernelspec": {
   "display_name": "Python 3",
   "language": "python",
   "name": "python3"
  },
  "language_info": {
   "codemirror_mode": {
    "name": "ipython",
    "version": 3
   },
   "file_extension": ".py",
   "mimetype": "text/x-python",
   "name": "python",
   "nbconvert_exporter": "python",
   "pygments_lexer": "ipython3",
   "version": "3.8.3"
  }
 },
 "nbformat": 4,
 "nbformat_minor": 4
}
